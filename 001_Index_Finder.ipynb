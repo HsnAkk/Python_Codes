{
 "cells": [
  {
   "cell_type": "code",
   "execution_count": 2,
   "metadata": {},
   "outputs": [
    {
     "name": "stdout",
     "output_type": "stream",
     "text": [
      "[3, 8]\n",
      "[6, 7]\n"
     ]
    }
   ],
   "source": [
    "# It gives the index number of two numbers from the my_nums list, which provide the target by adding these two numbers. \n",
    "\n",
    "class Solution:\n",
    "    \n",
    "    def __init__(self,nums,target):\n",
    "        self.nums = nums\n",
    "        self.target = target\n",
    "    \n",
    "    def twoSum(self):\n",
    "        for i in self.nums:\n",
    "            k = (self.nums.index(i)+1)\n",
    "            nums_new = self.nums[k:]\n",
    "        \n",
    "            for x in nums_new:\n",
    "                if (i+x)==self.target:\n",
    "                    index1 = self.nums.index(i)\n",
    "                    index2 = (self.nums.index(i) + nums_new.index(x) +1)\n",
    "                    print ([index1,index2])\n",
    "        \n",
    "    \n",
    "my_nums = [2,7,11,15,35,21,3,56,44]          # you can change the list of numbers.\n",
    "my_target = 59                               # you can change the target, what you want. \n",
    "solution = Solution(my_nums,my_target)\n",
    "targets = solution.twoSum()                \n",
    "\n"
   ]
  },
  {
   "cell_type": "code",
   "execution_count": null,
   "metadata": {},
   "outputs": [],
   "source": []
  }
 ],
 "metadata": {
  "kernelspec": {
   "display_name": "Python 3",
   "language": "python",
   "name": "python3"
  },
  "language_info": {
   "codemirror_mode": {
    "name": "ipython",
    "version": 3
   },
   "file_extension": ".py",
   "mimetype": "text/x-python",
   "name": "python",
   "nbconvert_exporter": "python",
   "pygments_lexer": "ipython3",
   "version": "3.6.6"
  }
 },
 "nbformat": 4,
 "nbformat_minor": 2
}
