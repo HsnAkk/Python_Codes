{
 "cells": [
  {
   "cell_type": "code",
   "execution_count": 3,
   "metadata": {},
   "outputs": [
    {
     "name": "stdout",
     "output_type": "stream",
     "text": [
      "Please enter a number :-123\n",
      "-321\n"
     ]
    }
   ],
   "source": [
    "# It returns the reverse of the given number as integer. If the given number is negativ, then it return negativ, too.  \n",
    "\n",
    "class Solution:\n",
    "    \n",
    "    def __init__(self,digit):\n",
    "        self.digit = digit\n",
    "    \n",
    "    def reverse(self):\n",
    "        \n",
    "        if self.digit>=0:\n",
    "            txt = str(self.digit)\n",
    "            txt = txt[::-1]\n",
    "            txt = int(txt)\n",
    "            print(txt)\n",
    "            \n",
    "        else:\n",
    "            digit = abs(self.digit)\n",
    "            txt = str(digit)[::-1]\n",
    "            txt = int(txt)\n",
    "            print('-',end='')\n",
    "            print(txt)\n",
    "\n",
    "digit = int(input('Please enter a number :'))\n",
    "solution = Solution(digit)\n",
    "Solution.reverse(solution)\n"
   ]
  },
  {
   "cell_type": "code",
   "execution_count": null,
   "metadata": {},
   "outputs": [],
   "source": []
  },
  {
   "cell_type": "code",
   "execution_count": null,
   "metadata": {},
   "outputs": [],
   "source": []
  }
 ],
 "metadata": {
  "kernelspec": {
   "display_name": "Python 3",
   "language": "python",
   "name": "python3"
  },
  "language_info": {
   "codemirror_mode": {
    "name": "ipython",
    "version": 3
   },
   "file_extension": ".py",
   "mimetype": "text/x-python",
   "name": "python",
   "nbconvert_exporter": "python",
   "pygments_lexer": "ipython3",
   "version": "3.6.6"
  }
 },
 "nbformat": 4,
 "nbformat_minor": 2
}
